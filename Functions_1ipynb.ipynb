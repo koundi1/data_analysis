{
  "nbformat": 4,
  "nbformat_minor": 0,
  "metadata": {
    "colab": {
      "provenance": []
    },
    "kernelspec": {
      "name": "python3",
      "display_name": "Python 3"
    },
    "language_info": {
      "name": "python"
    }
  },
  "cells": [
    {
      "cell_type": "code",
      "execution_count": null,
      "metadata": {
        "id": "ETCGkbUF4kFs"
      },
      "outputs": [],
      "source": [
        "def loan_emi(amount):\n",
        "    emi = amount/12\n",
        "    print(\"The EMI is ${}\".format(emi))"
      ]
    },
    {
      "cell_type": "code",
      "source": [
        "loan_emi(126000)"
      ],
      "metadata": {
        "colab": {
          "base_uri": "https://localhost:8080/"
        },
        "id": "QBi6BQYh4tpM",
        "outputId": "f8ae18c3-6508-4b03-ebff-bfffdf046eb8"
      },
      "execution_count": null,
      "outputs": [
        {
          "output_type": "stream",
          "name": "stdout",
          "text": [
            "The EMI is $10500.0\n"
          ]
        }
      ]
    },
    {
      "cell_type": "code",
      "source": [
        "def loan_emi(amount, duration):\n",
        "    emi = amount/duration\n",
        "    print(\"The EMI is ${}:\".format(emi))"
      ],
      "metadata": {
        "id": "iBAuweo04xNF"
      },
      "execution_count": null,
      "outputs": []
    },
    {
      "cell_type": "code",
      "source": [
        "loan_emi(126000,8*12)"
      ],
      "metadata": {
        "colab": {
          "base_uri": "https://localhost:8080/"
        },
        "id": "ib9o2ZDCC59q",
        "outputId": "d4bd482a-8a5a-4eb2-9624-7f4183528b5c"
      },
      "execution_count": null,
      "outputs": [
        {
          "output_type": "stream",
          "name": "stdout",
          "text": [
            "The EMI is $1312.5:\n"
          ]
        }
      ]
    },
    {
      "cell_type": "code",
      "source": [
        "loan_emi(126000, 10*12)"
      ],
      "metadata": {
        "colab": {
          "base_uri": "https://localhost:8080/"
        },
        "id": "dKoSGm4cC-Kq",
        "outputId": "6a6eec0d-3e26-4182-90ed-794d87baa7d2"
      },
      "execution_count": null,
      "outputs": [
        {
          "output_type": "stream",
          "name": "stdout",
          "text": [
            "The EMI is $1050.0:\n"
          ]
        }
      ]
    },
    {
      "cell_type": "code",
      "source": [
        "# return values"
      ],
      "metadata": {
        "id": "mgGKkxaQDK7o"
      },
      "execution_count": null,
      "outputs": []
    },
    {
      "cell_type": "code",
      "source": [
        "def loan_emi(amount, duration):\n",
        "    emi = amount/duration\n",
        "    return emi\n",
        "\n"
      ],
      "metadata": {
        "id": "Iq1R66JDHsiE"
      },
      "execution_count": null,
      "outputs": []
    },
    {
      "cell_type": "code",
      "source": [
        "emi1 = loan_emi(1260000, 8*12)"
      ],
      "metadata": {
        "id": "ej9mRiM3H2ax"
      },
      "execution_count": null,
      "outputs": []
    },
    {
      "cell_type": "code",
      "source": [
        "emi2 = loan_emi(1260000, 10*12)\n",
        "\n"
      ],
      "metadata": {
        "id": "Yi89RY3WH6_K"
      },
      "execution_count": null,
      "outputs": []
    },
    {
      "cell_type": "code",
      "source": [
        "emi1"
      ],
      "metadata": {
        "colab": {
          "base_uri": "https://localhost:8080/"
        },
        "id": "Yt5y14vxIM3x",
        "outputId": "5e4316e9-e35b-42f6-eea3-0dc2c38d8cb9"
      },
      "execution_count": null,
      "outputs": [
        {
          "output_type": "execute_result",
          "data": {
            "text/plain": [
              "13125.0"
            ]
          },
          "metadata": {},
          "execution_count": 25
        }
      ]
    },
    {
      "cell_type": "code",
      "source": [
        "emi2"
      ],
      "metadata": {
        "colab": {
          "base_uri": "https://localhost:8080/"
        },
        "id": "YuL9uTaXINpA",
        "outputId": "30e88e60-e657-48b1-e84c-c3e820c9c542"
      },
      "execution_count": null,
      "outputs": [
        {
          "output_type": "execute_result",
          "data": {
            "text/plain": [
              "10500.0"
            ]
          },
          "metadata": {},
          "execution_count": 26
        }
      ]
    },
    {
      "cell_type": "code",
      "source": [
        "#adding optional arguments"
      ],
      "metadata": {
        "id": "6E0rPWqIIOlb"
      },
      "execution_count": null,
      "outputs": []
    },
    {
      "cell_type": "code",
      "source": [
        "def loan_emi(amount, duration, down_payment):\n",
        "    loan_amount = amount - down_payment\n",
        "    emi = loan_amount/duration\n",
        "    return emi\n"
      ],
      "metadata": {
        "id": "rdMa46lVIZyN"
      },
      "execution_count": null,
      "outputs": []
    },
    {
      "cell_type": "code",
      "source": [
        "emi3 = loan_emi(1260000,8*12,0)"
      ],
      "metadata": {
        "id": "Kcxxv7jUIuDV"
      },
      "execution_count": null,
      "outputs": []
    },
    {
      "cell_type": "code",
      "source": [
        "emi4 = loan_emi(1260000, 8*12, 300000)"
      ],
      "metadata": {
        "id": "0hwDNuRxI6Pl"
      },
      "execution_count": null,
      "outputs": []
    },
    {
      "cell_type": "code",
      "source": [
        "emi3"
      ],
      "metadata": {
        "colab": {
          "base_uri": "https://localhost:8080/"
        },
        "id": "FowyrtLjJEQ_",
        "outputId": "ec667e75-acd9-439b-c86b-236dc5df42fe"
      },
      "execution_count": null,
      "outputs": [
        {
          "output_type": "execute_result",
          "data": {
            "text/plain": [
              "13125.0"
            ]
          },
          "metadata": {},
          "execution_count": 34
        }
      ]
    },
    {
      "cell_type": "code",
      "source": [
        "emi4"
      ],
      "metadata": {
        "colab": {
          "base_uri": "https://localhost:8080/"
        },
        "id": "fblrjqcNJFCC",
        "outputId": "91b80378-532d-4724-b3f0-366a6f32962e"
      },
      "execution_count": null,
      "outputs": [
        {
          "output_type": "execute_result",
          "data": {
            "text/plain": [
              "10000.0"
            ]
          },
          "metadata": {},
          "execution_count": 35
        }
      ]
    },
    {
      "cell_type": "code",
      "source": [
        "# EMI formula\n"
      ],
      "metadata": {
        "id": "pv5AuCcqJGGR"
      },
      "execution_count": null,
      "outputs": []
    },
    {
      "cell_type": "markdown",
      "source": [
        "EMI = Pxrx(1+r)^n/(1+r)^n-1\n"
      ],
      "metadata": {
        "id": "muehKrdqJee8"
      }
    },
    {
      "cell_type": "code",
      "source": [
        "def loan_emi(amount, duration, interest_rate, down_payment):\n",
        "    loan_amount = amount- down_payment\n",
        "    emi = loan_amount * interest_rate * (1+interest_rate)**duration // ((1+interest_rate)** duration-1)\n",
        "    return emi"
      ],
      "metadata": {
        "id": "CMJxyZK9JsSU"
      },
      "execution_count": null,
      "outputs": []
    },
    {
      "cell_type": "code",
      "source": [
        "emi5 = loan_emi(1260000, 10*12, 0.1/12, 0)"
      ],
      "metadata": {
        "id": "1am3_TUdK2io"
      },
      "execution_count": null,
      "outputs": []
    },
    {
      "cell_type": "code",
      "source": [
        "emi5"
      ],
      "metadata": {
        "colab": {
          "base_uri": "https://localhost:8080/"
        },
        "id": "2g1Hl_N_LCbc",
        "outputId": "2882c237-b7bb-47d5-dbb9-bd97cf9e5e81"
      },
      "execution_count": null,
      "outputs": [
        {
          "output_type": "execute_result",
          "data": {
            "text/plain": [
              "16650.0"
            ]
          },
          "metadata": {},
          "execution_count": 41
        }
      ]
    },
    {
      "cell_type": "code",
      "source": [
        "emi6 = loan_emi(1260000, 8*12, 0.1/12, 300000)"
      ],
      "metadata": {
        "id": "PY-jdc6FLC9Z"
      },
      "execution_count": null,
      "outputs": []
    },
    {
      "cell_type": "code",
      "source": [
        "emi6"
      ],
      "metadata": {
        "colab": {
          "base_uri": "https://localhost:8080/"
        },
        "id": "f0AJS0WxLSB8",
        "outputId": "5ecc755f-b24d-4815-fa79-e08548d41e4c"
      },
      "execution_count": null,
      "outputs": [
        {
          "output_type": "execute_result",
          "data": {
            "text/plain": [
              "14567.0"
            ]
          },
          "metadata": {},
          "execution_count": 43
        }
      ]
    },
    {
      "cell_type": "code",
      "source": [
        "import math\n",
        "def loan_emi(amount, duration, interest_rate, down_payment):\n",
        "    loan_amount = amount-down_payment\n",
        "    emi = loan_amount * interest_rate * (1+interest_rate)**duration // ((1+interest_rate)** duration-1)\n",
        "    emi = math.ceil(emi)\n",
        "    return emi"
      ],
      "metadata": {
        "id": "kUDbKa_WLSl-"
      },
      "execution_count": null,
      "outputs": []
    },
    {
      "cell_type": "code",
      "source": [
        "emi7 = loan_emi(1260000, 8*12, 0.1/12, 0)"
      ],
      "metadata": {
        "id": "lw8bXEh9Mdi3"
      },
      "execution_count": null,
      "outputs": []
    },
    {
      "cell_type": "code",
      "source": [
        "emi7"
      ],
      "metadata": {
        "colab": {
          "base_uri": "https://localhost:8080/"
        },
        "id": "YXRZsPDfMmSA",
        "outputId": "43b35464-e6a1-4aed-948b-92bcdb7e4757"
      },
      "execution_count": null,
      "outputs": [
        {
          "output_type": "execute_result",
          "data": {
            "text/plain": [
              "19119"
            ]
          },
          "metadata": {},
          "execution_count": 51
        }
      ]
    },
    {
      "cell_type": "code",
      "source": [
        "emi8 = loan_emi(1260000, 10*12, 0.08/12, 300000 )"
      ],
      "metadata": {
        "id": "e9yGYw_TMnlg"
      },
      "execution_count": null,
      "outputs": []
    },
    {
      "cell_type": "code",
      "source": [
        "emi8"
      ],
      "metadata": {
        "colab": {
          "base_uri": "https://localhost:8080/"
        },
        "id": "lHVGyNxSNAuq",
        "outputId": "4614f109-43b6-4a1a-d6b7-5346d5fba527"
      },
      "execution_count": null,
      "outputs": [
        {
          "output_type": "execute_result",
          "data": {
            "text/plain": [
              "11647"
            ]
          },
          "metadata": {},
          "execution_count": 55
        }
      ]
    },
    {
      "cell_type": "code",
      "source": [
        "if emi7<emi8:\n",
        "   print(\"Option 1 has lower EMI of {} per month\".format(emi7))\n",
        "else:\n",
        "    print('Option 2 has lower EMI of {} per month'.format(emi8))"
      ],
      "metadata": {
        "colab": {
          "base_uri": "https://localhost:8080/"
        },
        "id": "tLJhFMz_NBWM",
        "outputId": "0d77c79b-8e7e-4ff3-97f8-126c9bd354ea"
      },
      "execution_count": null,
      "outputs": [
        {
          "output_type": "stream",
          "name": "stdout",
          "text": [
            "Option 2 has lower EMI of 11647 per month\n"
          ]
        }
      ]
    },
    {
      "cell_type": "code",
      "source": [],
      "metadata": {
        "id": "kpWeyoV7NgoC"
      },
      "execution_count": null,
      "outputs": []
    },
    {
      "cell_type": "code",
      "source": [],
      "metadata": {
        "id": "Z_tPMRBoOCN2"
      },
      "execution_count": null,
      "outputs": []
    },
    {
      "cell_type": "markdown",
      "source": [
        "> **Q**: Shaun is currently paying back a home loan for a house he bought a few years ago. The cost of the house was `$800,000`. Shaun made a down payment of `25%` of the price. He financed the remaining amount using a 6-year loan with an interest rate of `7%` per annum (compounded monthly). Shaun is now buying a car worth `$60,000`, which he is planning to finance using a 1-year loan with an interest rate of `12%` per annum. Both loans are paid back in EMIs. What is the total monthly payment Shaun makes towards loan repayment?\n",
        "\n",
        "This question is now straightforward to solve, using the `loan_emi` function we've already defined.\n"
      ],
      "metadata": {
        "id": "gOiyKWD-OQog"
      }
    },
    {
      "cell_type": "code",
      "source": [
        "house_cost = 800000\n",
        "house_down_payment = 0.25*800000\n",
        "house_duration = 6*12\n",
        "house_interest_rate = 0.07/12\n",
        "house_emi = loan_emi(house_cost, house_duration, house_interest_rate, house_down_payment)\n",
        "house_emi"
      ],
      "metadata": {
        "colab": {
          "base_uri": "https://localhost:8080/"
        },
        "id": "jtwb2oWrOUqU",
        "outputId": "675d64f2-abaa-4ce5-f387-2ec49536b7ed"
      },
      "execution_count": null,
      "outputs": [
        {
          "output_type": "execute_result",
          "data": {
            "text/plain": [
              "10229"
            ]
          },
          "metadata": {},
          "execution_count": 58
        }
      ]
    },
    {
      "cell_type": "code",
      "source": [
        "cost_of_car = 60000\n",
        "car_duration = 1*12\n",
        "car_interest_rate = .12/12\n",
        "car_down_payment = 0\n",
        "car_emi = loan_emi(cost_of_car, car_duration, car_interest_rate,car_down_payment)\n",
        "car_emi"
      ],
      "metadata": {
        "colab": {
          "base_uri": "https://localhost:8080/"
        },
        "id": "qwGujMztPEK_",
        "outputId": "9d0ddb20-55f3-427a-dd59-c32c4325fd5b"
      },
      "execution_count": null,
      "outputs": [
        {
          "output_type": "execute_result",
          "data": {
            "text/plain": [
              "5330"
            ]
          },
          "metadata": {},
          "execution_count": 60
        }
      ]
    },
    {
      "cell_type": "code",
      "source": [
        "Total_emi = car_emi + house_emi"
      ],
      "metadata": {
        "id": "guW6TmA9Pwoy"
      },
      "execution_count": null,
      "outputs": []
    },
    {
      "cell_type": "code",
      "source": [
        "print('Shaun pays about ${} towards monthly payments for both car and house'.format(Total_emi))"
      ],
      "metadata": {
        "colab": {
          "base_uri": "https://localhost:8080/"
        },
        "id": "rtpyBgoDP_Ha",
        "outputId": "e082f676-8448-4f00-9418-b8b515b45861"
      },
      "execution_count": null,
      "outputs": [
        {
          "output_type": "stream",
          "name": "stdout",
          "text": [
            "Shaun pays about $15559 towards monthly payments for both car and house\n"
          ]
        }
      ]
    },
    {
      "cell_type": "code",
      "source": [],
      "metadata": {
        "id": "ow-sYarpQPyn"
      },
      "execution_count": null,
      "outputs": []
    },
    {
      "cell_type": "markdown",
      "source": [
        "### Exceptions and `try`-`except`\n",
        "\n",
        "> Q: If you borrow `$100,000` using a 10-year loan with an interest rate of 9% per annum, what is the total amount you end up paying as interest?\n",
        "\n",
        "One way to solve this problem is to compare the EMIs for two loans: one with the given rate of interest and another with a 0% rate of interest. The total interest paid is then simply the sum of monthly differences over the duration of the loan."
      ],
      "metadata": {
        "id": "dR3496OMQ7Xs"
      }
    },
    {
      "cell_type": "code",
      "source": [
        "emi_interest = loan_emi(100000, 10*12,0.09/12, 0)"
      ],
      "metadata": {
        "id": "OSxrNxqaQ8KC"
      },
      "execution_count": null,
      "outputs": []
    },
    {
      "cell_type": "code",
      "source": [
        "emi_interest"
      ],
      "metadata": {
        "colab": {
          "base_uri": "https://localhost:8080/"
        },
        "id": "mx8U13O_RIMm",
        "outputId": "2e07c595-7542-4c30-8428-b12299dcccf2"
      },
      "execution_count": null,
      "outputs": [
        {
          "output_type": "execute_result",
          "data": {
            "text/plain": [
              "1266"
            ]
          },
          "metadata": {},
          "execution_count": 69
        }
      ]
    },
    {
      "cell_type": "code",
      "source": [
        "wmi_without_interest = loan_emi(100000, 10*12, 0./12, 0)"
      ],
      "metadata": {
        "colab": {
          "base_uri": "https://localhost:8080/",
          "height": 297
        },
        "id": "4E7GH9ciRMEf",
        "outputId": "532555be-72f1-4647-ffc9-af68b30cd680"
      },
      "execution_count": null,
      "outputs": [
        {
          "output_type": "error",
          "ename": "ZeroDivisionError",
          "evalue": "ignored",
          "traceback": [
            "\u001b[0;31m---------------------------------------------------------------------------\u001b[0m",
            "\u001b[0;31mZeroDivisionError\u001b[0m                         Traceback (most recent call last)",
            "\u001b[0;32m<ipython-input-70-854358a35898>\u001b[0m in \u001b[0;36m<cell line: 1>\u001b[0;34m()\u001b[0m\n\u001b[0;32m----> 1\u001b[0;31m \u001b[0mwmi_without_interest\u001b[0m \u001b[0;34m=\u001b[0m \u001b[0mloan_emi\u001b[0m\u001b[0;34m(\u001b[0m\u001b[0;36m100000\u001b[0m\u001b[0;34m,\u001b[0m \u001b[0;36m10\u001b[0m\u001b[0;34m*\u001b[0m\u001b[0;36m12\u001b[0m\u001b[0;34m,\u001b[0m \u001b[0;36m0.\u001b[0m\u001b[0;34m/\u001b[0m\u001b[0;36m12\u001b[0m\u001b[0;34m,\u001b[0m \u001b[0;36m0\u001b[0m\u001b[0;34m)\u001b[0m\u001b[0;34m\u001b[0m\u001b[0;34m\u001b[0m\u001b[0m\n\u001b[0m",
            "\u001b[0;32m<ipython-input-47-33bd6d2f6327>\u001b[0m in \u001b[0;36mloan_emi\u001b[0;34m(amount, duration, interest_rate, down_payment)\u001b[0m\n\u001b[1;32m      2\u001b[0m \u001b[0;32mdef\u001b[0m \u001b[0mloan_emi\u001b[0m\u001b[0;34m(\u001b[0m\u001b[0mamount\u001b[0m\u001b[0;34m,\u001b[0m \u001b[0mduration\u001b[0m\u001b[0;34m,\u001b[0m \u001b[0minterest_rate\u001b[0m\u001b[0;34m,\u001b[0m \u001b[0mdown_payment\u001b[0m\u001b[0;34m)\u001b[0m\u001b[0;34m:\u001b[0m\u001b[0;34m\u001b[0m\u001b[0;34m\u001b[0m\u001b[0m\n\u001b[1;32m      3\u001b[0m     \u001b[0mloan_amount\u001b[0m \u001b[0;34m=\u001b[0m \u001b[0mamount\u001b[0m\u001b[0;34m-\u001b[0m\u001b[0mdown_payment\u001b[0m\u001b[0;34m\u001b[0m\u001b[0;34m\u001b[0m\u001b[0m\n\u001b[0;32m----> 4\u001b[0;31m     \u001b[0memi\u001b[0m \u001b[0;34m=\u001b[0m \u001b[0mloan_amount\u001b[0m \u001b[0;34m*\u001b[0m \u001b[0minterest_rate\u001b[0m \u001b[0;34m*\u001b[0m \u001b[0;34m(\u001b[0m\u001b[0;36m1\u001b[0m\u001b[0;34m+\u001b[0m\u001b[0minterest_rate\u001b[0m\u001b[0;34m)\u001b[0m\u001b[0;34m**\u001b[0m\u001b[0mduration\u001b[0m \u001b[0;34m//\u001b[0m \u001b[0;34m(\u001b[0m\u001b[0;34m(\u001b[0m\u001b[0;36m1\u001b[0m\u001b[0;34m+\u001b[0m\u001b[0minterest_rate\u001b[0m\u001b[0;34m)\u001b[0m\u001b[0;34m**\u001b[0m \u001b[0mduration\u001b[0m\u001b[0;34m-\u001b[0m\u001b[0;36m1\u001b[0m\u001b[0;34m)\u001b[0m\u001b[0;34m\u001b[0m\u001b[0;34m\u001b[0m\u001b[0m\n\u001b[0m\u001b[1;32m      5\u001b[0m     \u001b[0memi\u001b[0m \u001b[0;34m=\u001b[0m \u001b[0mmath\u001b[0m\u001b[0;34m.\u001b[0m\u001b[0mceil\u001b[0m\u001b[0;34m(\u001b[0m\u001b[0memi\u001b[0m\u001b[0;34m)\u001b[0m\u001b[0;34m\u001b[0m\u001b[0;34m\u001b[0m\u001b[0m\n\u001b[1;32m      6\u001b[0m     \u001b[0;32mreturn\u001b[0m \u001b[0memi\u001b[0m\u001b[0;34m\u001b[0m\u001b[0;34m\u001b[0m\u001b[0m\n",
            "\u001b[0;31mZeroDivisionError\u001b[0m: float floor division by zero"
          ]
        }
      ]
    },
    {
      "cell_type": "code",
      "source": [],
      "metadata": {
        "id": "SsZGAnG2RWAr"
      },
      "execution_count": null,
      "outputs": []
    },
    {
      "cell_type": "markdown",
      "source": [
        "try:\n",
        "    print(\"Now computing the result..\")\n",
        "    result = 5 / 0\n",
        "    print(\"Computation was completed successfully\")\n",
        "except ZeroDivisionError:\n",
        "    print(\"Failed to compute result because you were trying to divide by zero\")\n",
        "    result = None\n",
        "\n",
        "print(result)"
      ],
      "metadata": {
        "id": "Yy7od0aASd51"
      }
    },
    {
      "cell_type": "code",
      "source": [
        "def loan_emi(amount, duration, interest_rate, down_payment):\n",
        "    loan_amount = amount - down_payment\n",
        "    try:\n",
        "        emi = loan_amount * interest_rate * (1+interest_rate)**duration // ((1+interest_rate)**duration-1)\n",
        "    except ZeroDivisionError:\n",
        "        emi = loan_amount/duration\n",
        "    emi = math.ceil(emi)\n",
        "    return emi\n"
      ],
      "metadata": {
        "id": "1833s-uGSeij"
      },
      "execution_count": null,
      "outputs": []
    },
    {
      "cell_type": "code",
      "source": [],
      "metadata": {
        "id": "B7_gjlZ6TT-u"
      },
      "execution_count": null,
      "outputs": []
    },
    {
      "cell_type": "markdown",
      "source": [
        "We can use the updated `loan_emi` function to solve our problem.\n",
        "\n",
        "> **Q**: If you borrow `$100,000` using a 10-year loan with an interest rate of 9% per annum, what is the total amount you end up paying as interest?\n"
      ],
      "metadata": {
        "id": "Xo2N41UATZrC"
      }
    },
    {
      "cell_type": "code",
      "source": [
        "emi_with_interest = loan_emi(100000, 10*12, 0.09/12, 0)\n",
        "emi_with_interest"
      ],
      "metadata": {
        "colab": {
          "base_uri": "https://localhost:8080/"
        },
        "id": "jdsAQh6UTaPF",
        "outputId": "2c395f06-b51b-4280-88c1-5a7ded1d562e"
      },
      "execution_count": null,
      "outputs": [
        {
          "output_type": "execute_result",
          "data": {
            "text/plain": [
              "1266"
            ]
          },
          "metadata": {},
          "execution_count": 72
        }
      ]
    },
    {
      "cell_type": "code",
      "source": [
        "emi_without_interest = loan_emi(100000, 10*12, 0,0)\n",
        "emi_without_interest"
      ],
      "metadata": {
        "colab": {
          "base_uri": "https://localhost:8080/"
        },
        "id": "2li2M61LTkti",
        "outputId": "ab43ae86-ee12-4379-bdcf-f3988540b0b4"
      },
      "execution_count": null,
      "outputs": [
        {
          "output_type": "execute_result",
          "data": {
            "text/plain": [
              "834"
            ]
          },
          "metadata": {},
          "execution_count": 73
        }
      ]
    },
    {
      "cell_type": "code",
      "source": [
        "total_interest_rate = (emi_interest - emi_without_interest)*10*12"
      ],
      "metadata": {
        "id": "Ve7R2S_oTuhV"
      },
      "execution_count": null,
      "outputs": []
    },
    {
      "cell_type": "code",
      "source": [
        "total_interest_rate"
      ],
      "metadata": {
        "colab": {
          "base_uri": "https://localhost:8080/"
        },
        "id": "BAN6IQPGT2J1",
        "outputId": "c446c6a0-e3f7-431c-e7cd-bb6793f816a5"
      },
      "execution_count": null,
      "outputs": [
        {
          "output_type": "execute_result",
          "data": {
            "text/plain": [
              "51840"
            ]
          },
          "metadata": {},
          "execution_count": 77
        }
      ]
    },
    {
      "cell_type": "code",
      "source": [
        "# Documenting functions using docstrings"
      ],
      "metadata": {
        "id": "u6gCzqy4T4Ns"
      },
      "execution_count": null,
      "outputs": []
    },
    {
      "cell_type": "code",
      "source": [
        "def loan_emi(amount, duration, interest_rate, down_payment):\n",
        "    \"\"\" Calculates the equal monthly installments (EMI) for a loan\n",
        "        Arguments:\n",
        "          amount = loan amount taken\n",
        "          down_payment(optional) = deposit paid (if any)\n",
        "          interest_rate = Interest rate (calculated monthly)\n",
        "          duration = duration of the loan (in months)\n",
        "\n",
        "    \"\"\"\n",
        "    loan_amount = amount - down_payment\n",
        "    try:\n",
        "        emi = loan_amount*interest_rate*(1+interest_rate)**duration // ((1+interest_rate)** duration -1)\n",
        "    except ZeroDivisionError:\n",
        "        emi = loan_amount/duration\n",
        "    emi = math.ceil (emi)\n",
        "    return emi\n"
      ],
      "metadata": {
        "id": "9GweHCZJVgci"
      },
      "execution_count": null,
      "outputs": []
    },
    {
      "cell_type": "code",
      "source": [
        "help(loan_emi)"
      ],
      "metadata": {
        "colab": {
          "base_uri": "https://localhost:8080/"
        },
        "id": "7v20A_QqXQHQ",
        "outputId": "e61297bf-463d-4885-a0b9-2e886c47f6de"
      },
      "execution_count": null,
      "outputs": [
        {
          "output_type": "stream",
          "name": "stdout",
          "text": [
            "Help on function loan_emi in module __main__:\n",
            "\n",
            "loan_emi(amount, duration, interest_rate, down_payment)\n",
            "    Calculates the equal monthly installments (EMI) for a loan\n",
            "    Arguments: \n",
            "      amount = loan amount taken\n",
            "      down_payment(optional) = deposit paid (if any)\n",
            "      interest_rate = Interest rate (calculated monthly)\n",
            "      duration = duration of the loan (in months)\n",
            "\n"
          ]
        }
      ]
    },
    {
      "cell_type": "code",
      "source": [
        "import math\n",
        "def cost_of_trip(Flight_cost, Hotel_cost, car_rental_cost, duration_of_trip):\n",
        "    \"\"\" Calculates the total cost of the trip.\n",
        "        Arguments:\n",
        "        Flight_cost = Total return flight cost\n",
        "        Hotel_cost = cost of the hotel per day\n",
        "        car_rental_cost = Rental cost of the car per week\n",
        "        duration_of_trip = No. of days for the trip\n",
        "    \"\"\"\n",
        "    duration_of_trip_weeks = math.ceil(duration_of_trip/7)\n",
        "    Spend_for_the_trip = Flight_cost + (Hotel_cost*duration_of_trip) + (car_rental_cost*duration_of_trip_weeks)\n",
        "\n",
        "\n",
        "    if Spend_for_the_trip <=1000:\n",
        "        print(\"The spend for this trip ${} is within my limits\".format(Spend_for_the_trip))\n",
        "\n",
        "    else:\n",
        "        print(\"The spend for this trip ${} is over my budget\".format(Spend_for_the_trip))\n"
      ],
      "metadata": {
        "id": "ef90bl9cXUEf"
      },
      "execution_count": null,
      "outputs": []
    },
    {
      "cell_type": "code",
      "source": [
        "  #If you're planning a 1-week long trip, which city should you visit to spend the least amount of money?"
      ],
      "metadata": {
        "id": "Vfjl36y3gQZi"
      },
      "execution_count": null,
      "outputs": []
    },
    {
      "cell_type": "code",
      "source": [
        "#Paris trip spen\n",
        "\n",
        "cost_of_trip(200, 20,200,7)"
      ],
      "metadata": {
        "colab": {
          "base_uri": "https://localhost:8080/"
        },
        "id": "bRJzKPjiheq6",
        "outputId": "ff6ddbad-7afa-4f49-a09f-ec3db106aec8"
      },
      "execution_count": null,
      "outputs": [
        {
          "output_type": "stream",
          "name": "stdout",
          "text": [
            "The spend for this trip $540 is within my limits\n"
          ]
        }
      ]
    },
    {
      "cell_type": "code",
      "source": [
        "#London trip costs\n",
        "cost_of_trip(250,30,120,7)"
      ],
      "metadata": {
        "colab": {
          "base_uri": "https://localhost:8080/"
        },
        "id": "BdEcn8TY1d-r",
        "outputId": "c2608d7b-3e03-4a75-f7f0-d8e4c607b9a8"
      },
      "execution_count": null,
      "outputs": [
        {
          "output_type": "stream",
          "name": "stdout",
          "text": [
            "The spend for this trip $580 is within my limits\n"
          ]
        }
      ]
    },
    {
      "cell_type": "code",
      "source": [
        "#dubai\n",
        "cost_of_trip(370,15,80,7)"
      ],
      "metadata": {
        "colab": {
          "base_uri": "https://localhost:8080/"
        },
        "id": "48LiR2_61rw7",
        "outputId": "d32cf5ab-f935-4f66-ae3d-1bb194b0b133"
      },
      "execution_count": null,
      "outputs": [
        {
          "output_type": "stream",
          "name": "stdout",
          "text": [
            "The spend for this trip $555 is within my limits\n"
          ]
        }
      ]
    },
    {
      "cell_type": "code",
      "source": [
        "#Mumbai"
      ],
      "metadata": {
        "id": "sziI6X641zMo"
      },
      "execution_count": null,
      "outputs": []
    },
    {
      "cell_type": "code",
      "source": [
        "cost_of_trip(450,10,70,7)"
      ],
      "metadata": {
        "colab": {
          "base_uri": "https://localhost:8080/"
        },
        "id": "pHiSrlro11_P",
        "outputId": "ed849135-f722-47a7-eadb-cfd55422fac6"
      },
      "execution_count": null,
      "outputs": [
        {
          "output_type": "stream",
          "name": "stdout",
          "text": [
            "The spend for this trip $590 is within my limits\n"
          ]
        }
      ]
    },
    {
      "cell_type": "code",
      "source": [],
      "metadata": {
        "id": "ZiDRcOcd17Kw"
      },
      "execution_count": null,
      "outputs": []
    }
  ]
}