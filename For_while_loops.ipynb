{
  "nbformat": 4,
  "nbformat_minor": 0,
  "metadata": {
    "colab": {
      "provenance": []
    },
    "kernelspec": {
      "name": "python3",
      "display_name": "Python 3"
    },
    "language_info": {
      "name": "python"
    }
  },
  "cells": [
    {
      "cell_type": "code",
      "execution_count": null,
      "metadata": {
        "colab": {
          "base_uri": "https://localhost:8080/"
        },
        "id": "QklkYtLrcEvH",
        "outputId": "dd6227e2-17f3-4867-836a-4001923da4d4"
      },
      "outputs": [
        {
          "output_type": "stream",
          "name": "stdout",
          "text": [
            "Magic number reached 42, stop execution\n"
          ]
        }
      ],
      "source": [
        "i = 1\n",
        "#result = 1\n",
        "while(i<=100):\n",
        "      #result = result *i\n",
        "      if i ==42:\n",
        "         print('Magic number reached 42, stop execution')\n",
        "         break\n",
        "      i = i+1\n"
      ]
    },
    {
      "cell_type": "code",
      "source": [
        "i = 1\n",
        "result = 1\n",
        "while i<=10:\n",
        "  i = i+1\n",
        "  if i % 2 ==0:\n",
        "    print('divisible by {}'.format(i))\n",
        "    continue\n",
        "  print('inside if, after continue')\n",
        "  print('Not divisible {}'.format(i))\n",
        "  result = result*i\n",
        "\n",
        "print('i:',i)\n",
        "print('result:',result)"
      ],
      "metadata": {
        "colab": {
          "base_uri": "https://localhost:8080/"
        },
        "id": "vt5vkH_IcFsS",
        "outputId": "ab49af25-ab3c-479f-8a6e-79e20191f0ed"
      },
      "execution_count": null,
      "outputs": [
        {
          "output_type": "stream",
          "name": "stdout",
          "text": [
            "divisible by 2\n",
            "inside if, after continue\n",
            "Not divisible 3\n",
            "divisible by 4\n",
            "inside if, after continue\n",
            "Not divisible 5\n",
            "divisible by 6\n",
            "inside if, after continue\n",
            "Not divisible 7\n",
            "divisible by 8\n",
            "inside if, after continue\n",
            "Not divisible 9\n",
            "divisible by 10\n",
            "inside if, after continue\n",
            "Not divisible 11\n",
            "i: 11\n",
            "result: 10395\n"
          ]
        }
      ]
    },
    {
      "cell_type": "code",
      "source": [
        "days = ['Monday', 'Tuesday', 'Wednesday', 'Thursday', 'Friday', 'Saturday', 'Sunday']\n",
        "for day in days:\n",
        "  print(day)"
      ],
      "metadata": {
        "colab": {
          "base_uri": "https://localhost:8080/"
        },
        "id": "HF3aWrkoelrB",
        "outputId": "732f4552-a337-4abb-9974-216dfb801f1e"
      },
      "execution_count": null,
      "outputs": [
        {
          "output_type": "stream",
          "name": "stdout",
          "text": [
            "Monday\n",
            "Tuesday\n",
            "Wednesday\n",
            "Thursday\n",
            "Friday\n",
            "Saturday\n",
            "Sunday\n"
          ]
        }
      ]
    },
    {
      "cell_type": "code",
      "source": [
        "#for value in sequence:\n",
        " # statement()"
      ],
      "metadata": {
        "id": "XcyqOkGbjtrl"
      },
      "execution_count": null,
      "outputs": []
    },
    {
      "cell_type": "code",
      "source": [
        "# looping over a string\n",
        "for char in 'Monday':\n",
        "  print(char)"
      ],
      "metadata": {
        "colab": {
          "base_uri": "https://localhost:8080/"
        },
        "id": "UeFIB7-bi6y2",
        "outputId": "16b58c6d-6e91-49fa-ce96-34f42e0b7b63"
      },
      "execution_count": null,
      "outputs": [
        {
          "output_type": "stream",
          "name": "stdout",
          "text": [
            "M\n",
            "o\n",
            "n\n",
            "d\n",
            "a\n",
            "y\n"
          ]
        }
      ]
    },
    {
      "cell_type": "code",
      "source": [
        "#looping over a tuple\n",
        "cars = ('toyota', 'BMW', 'Honda')\n",
        "for vehicle in cars:\n",
        "  print(\"machines:\",vehicle)"
      ],
      "metadata": {
        "colab": {
          "base_uri": "https://localhost:8080/"
        },
        "id": "2bwB8KZEjEAM",
        "outputId": "70d66c35-0077-44bd-9265-4fe8a03201f7"
      },
      "execution_count": null,
      "outputs": [
        {
          "output_type": "stream",
          "name": "stdout",
          "text": [
            "machines: toyota\n",
            "machines: BMW\n",
            "machines: Honda\n"
          ]
        }
      ]
    },
    {
      "cell_type": "code",
      "source": [
        "#looping over a dictionary\n",
        "pallets = {\n",
        "           'length': '1.0m',\n",
        "           'width': '0.6m',\n",
        "           'height': '1.2m',\n",
        "           'heavy': False\n",
        "}\n",
        "for dims in pallets:\n",
        "    print(dims, pallets[dims])"
      ],
      "metadata": {
        "colab": {
          "base_uri": "https://localhost:8080/"
        },
        "id": "przUSdb5jr6e",
        "outputId": "0da17b57-6d61-4ddc-ca72-fff4dedb171c"
      },
      "execution_count": null,
      "outputs": [
        {
          "output_type": "stream",
          "name": "stdout",
          "text": [
            "length 1.0m\n",
            "width 0.6m\n",
            "height 1.2m\n",
            "heavy False\n"
          ]
        }
      ]
    },
    {
      "cell_type": "code",
      "source": [
        "pallets = {\n",
        "           'length': '1.0m',\n",
        "           'width': '0.6m',\n",
        "           'height': '1.2m',\n",
        "           'heavy': False\n",
        "}\n",
        "for value in pallets.values():\n",
        "    print(value)"
      ],
      "metadata": {
        "colab": {
          "base_uri": "https://localhost:8080/"
        },
        "id": "KimO2gxQjh7w",
        "outputId": "0b48628a-1470-45a2-cf32-5d89b4cefe0d"
      },
      "execution_count": null,
      "outputs": [
        {
          "output_type": "stream",
          "name": "stdout",
          "text": [
            "1.0m\n",
            "0.6m\n",
            "1.2m\n",
            "False\n"
          ]
        }
      ]
    },
    {
      "cell_type": "code",
      "source": [
        "for dim_value_pair in pallets.items():\n",
        "    print(dim_value_pair)"
      ],
      "metadata": {
        "colab": {
          "base_uri": "https://localhost:8080/"
        },
        "id": "rYRbJ7Famvxb",
        "outputId": "14b95199-0612-4845-90ea-2c90e021f188"
      },
      "execution_count": null,
      "outputs": [
        {
          "output_type": "stream",
          "name": "stdout",
          "text": [
            "('length', '1.0m')\n",
            "('width', '0.6m')\n",
            "('height', '1.2m')\n",
            "('heavy', False)\n"
          ]
        }
      ]
    },
    {
      "cell_type": "code",
      "source": [
        "for dim, value in pallets.items():\n",
        "    print('dim:',dim,'value:',value)"
      ],
      "metadata": {
        "colab": {
          "base_uri": "https://localhost:8080/"
        },
        "id": "h_kJTRiiouuu",
        "outputId": "a84237ac-30aa-43fd-825c-8931a525ebe8"
      },
      "execution_count": null,
      "outputs": [
        {
          "output_type": "stream",
          "name": "stdout",
          "text": [
            "dim: length value: 1.0m\n",
            "dim: width value: 0.6m\n",
            "dim: height value: 1.2m\n",
            "dim: heavy value: False\n"
          ]
        }
      ]
    },
    {
      "cell_type": "markdown",
      "source": [
        "### Iterating using `range` and `enumerate`\n",
        "\n",
        "The `range` function is used to create a sequence of numbers that can be iterated over using a `for` loop. It can be used in 3 ways:\n",
        "\n",
        "* `range(n)` - Creates a sequence of numbers from `0` to `n-1`\n",
        "* `range(a, b)` - Creates a sequence of numbers from `a` to `b-1`\n",
        "* `range(a, b, step)` - Creates a sequence of numbers from `a` to `b-1` with increments of `step`"
      ],
      "metadata": {
        "id": "Z4yrww36po4K"
      }
    },
    {
      "cell_type": "code",
      "source": [
        "for i in range(7):\n",
        "    print (i)"
      ],
      "metadata": {
        "colab": {
          "base_uri": "https://localhost:8080/"
        },
        "id": "Xb9WjtAppm67",
        "outputId": "0b1a248e-8e7e-48fd-c14c-35c86ab09647"
      },
      "execution_count": null,
      "outputs": [
        {
          "output_type": "stream",
          "name": "stdout",
          "text": [
            "0\n",
            "1\n",
            "2\n",
            "3\n",
            "4\n",
            "5\n",
            "6\n"
          ]
        }
      ]
    },
    {
      "cell_type": "code",
      "source": [
        "for i in range(3,12):\n",
        "    print(i)"
      ],
      "metadata": {
        "colab": {
          "base_uri": "https://localhost:8080/"
        },
        "id": "BDxEuOwdptNZ",
        "outputId": "72612d84-a6d0-41d1-d2c8-fce6377e3912"
      },
      "execution_count": null,
      "outputs": [
        {
          "output_type": "stream",
          "name": "stdout",
          "text": [
            "3\n",
            "4\n",
            "5\n",
            "6\n",
            "7\n",
            "8\n",
            "9\n",
            "10\n",
            "11\n"
          ]
        }
      ]
    },
    {
      "cell_type": "code",
      "source": [
        "for i in range (3,12,2):\n",
        "    print (i)"
      ],
      "metadata": {
        "colab": {
          "base_uri": "https://localhost:8080/"
        },
        "id": "z6Wj-PCZp3am",
        "outputId": "19f92837-7709-4ef0-8fee-6b3b74c5f4a4"
      },
      "execution_count": null,
      "outputs": [
        {
          "output_type": "stream",
          "name": "stdout",
          "text": [
            "3\n",
            "5\n",
            "7\n",
            "9\n",
            "11\n"
          ]
        }
      ]
    },
    {
      "cell_type": "code",
      "source": [
        "vehicles_list = ['Toyota', 'Honda', 'BMW', 'Volkswagon', 'Mazda', 'Ford', 'Porshe']\n",
        "for i in range(len(vehicles_list)):\n",
        "    print('the value of {} is {}'.format(i,vehicles_list[i]))"
      ],
      "metadata": {
        "colab": {
          "base_uri": "https://localhost:8080/"
        },
        "id": "pVNdoFkCqAqf",
        "outputId": "e749300f-13aa-4450-8603-f043c627b94e"
      },
      "execution_count": null,
      "outputs": [
        {
          "output_type": "stream",
          "name": "stdout",
          "text": [
            "the value of 0 is Toyota\n",
            "the value of 1 is Honda\n",
            "the value of 2 is BMW\n",
            "the value of 3 is Volkswagon\n",
            "the value of 4 is Mazda\n",
            "the value of 5 is Ford\n",
            "the value of 6 is Porshe\n"
          ]
        }
      ]
    },
    {
      "cell_type": "code",
      "source": [
        "for i, val in enumerate(vehicles_list):\n",
        "    print('the value in {} is {}'.format(i,val))"
      ],
      "metadata": {
        "colab": {
          "base_uri": "https://localhost:8080/"
        },
        "id": "AMZ_8ld7qs99",
        "outputId": "36943db1-10d7-4edc-c897-24a587499ac2"
      },
      "execution_count": null,
      "outputs": [
        {
          "output_type": "stream",
          "name": "stdout",
          "text": [
            "the value in 0 is Toyota\n",
            "the value in 1 is Honda\n",
            "the value in 2 is BMW\n",
            "the value in 3 is Volkswagon\n",
            "the value in 4 is Mazda\n",
            "the value in 5 is Ford\n",
            "the value in 6 is Porshe\n"
          ]
        }
      ]
    },
    {
      "cell_type": "code",
      "source": [
        "weekday = ['Monday', 'Tuesday', 'Wednesday', 'Thursday', 'Friday']\n",
        "for day in weekday:\n",
        "    print('today is {}'. format(day))\n"
      ],
      "metadata": {
        "colab": {
          "base_uri": "https://localhost:8080/"
        },
        "id": "WgYlwYY3rfIj",
        "outputId": "d1d83264-755e-4287-9c44-29aa185d2a9a"
      },
      "execution_count": null,
      "outputs": [
        {
          "output_type": "stream",
          "name": "stdout",
          "text": [
            "today is Monday\n",
            "today is Tuesday\n",
            "today is Wednesday\n",
            "today is Thursday\n",
            "today is Friday\n"
          ]
        }
      ]
    },
    {
      "cell_type": "code",
      "source": [
        "weekday = ['Monday', 'Tuesday', 'Wednesday', 'Thursday', 'Friday']\n",
        "for day in weekday:\n",
        "    print('today is {}'.format(day))\n",
        "    if (day =='Thursday'):\n",
        "        print('Work from home')\n",
        "        break\n"
      ],
      "metadata": {
        "colab": {
          "base_uri": "https://localhost:8080/"
        },
        "id": "gNaMeZ8wsWtm",
        "outputId": "8c45ca2c-2e2a-4ded-d3d2-9684c5217f3b"
      },
      "execution_count": null,
      "outputs": [
        {
          "output_type": "stream",
          "name": "stdout",
          "text": [
            "today is Monday\n",
            "today is Tuesday\n",
            "today is Wednesday\n",
            "today is Thursday\n",
            "Work from home\n"
          ]
        }
      ]
    },
    {
      "cell_type": "code",
      "source": [
        "weekday = ['Monday', 'Tuesday', 'Wednesday', 'Thursday', 'Friday']\n",
        "for day in weekday:\n",
        "    print('today is {}'. format(day))\n",
        "    if(day == 'Thursday'):\n",
        "       print('work from home')\n",
        "       continue\n",
        "    #print('today is {}'.format(day))"
      ],
      "metadata": {
        "colab": {
          "base_uri": "https://localhost:8080/"
        },
        "id": "xUBhV5qGuUXi",
        "outputId": "b578b8dc-b65a-4b4e-fd37-f2b1f6ec38da"
      },
      "execution_count": null,
      "outputs": [
        {
          "output_type": "stream",
          "name": "stdout",
          "text": [
            "today is Monday\n",
            "today is Tuesday\n",
            "today is Wednesday\n",
            "today is Thursday\n",
            "work from home\n",
            "today is Friday\n"
          ]
        }
      ]
    },
    {
      "cell_type": "code",
      "source": [
        "pets = [{'name': 'cooper', 'age': '10'}, {'name': 'pon', 'age': '14'}]\n",
        "for dog in pets:\n",
        "    for key in dog:\n",
        "        print(key, dog[key])"
      ],
      "metadata": {
        "colab": {
          "base_uri": "https://localhost:8080/"
        },
        "id": "VpTjrvEDu7A8",
        "outputId": "113a53e8-7377-43bd-c683-20f5bfff4b54"
      },
      "execution_count": null,
      "outputs": [
        {
          "output_type": "stream",
          "name": "stdout",
          "text": [
            "name cooper\n",
            "age 10\n",
            "name pon\n",
            "age 14\n"
          ]
        }
      ]
    },
    {
      "cell_type": "code",
      "source": [],
      "metadata": {
        "id": "U_zuRuguwtQP"
      },
      "execution_count": null,
      "outputs": []
    }
  ]
}